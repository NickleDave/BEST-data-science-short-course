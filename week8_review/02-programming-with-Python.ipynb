{
 "cells": [
  {
   "cell_type": "markdown",
   "metadata": {},
   "source": [
    "# programming with Python"
   ]
  },
  {
   "cell_type": "markdown",
   "metadata": {},
   "source": [
    "### for loops\n",
    "\n",
    "Write a `for` loop that loops through a string and prints every character in that string."
   ]
  },
  {
   "cell_type": "code",
   "execution_count": null,
   "metadata": {
    "collapsed": true
   },
   "outputs": [],
   "source": []
  },
  {
   "cell_type": "markdown",
   "metadata": {},
   "source": [
    "### lists"
   ]
  },
  {
   "cell_type": "markdown",
   "metadata": {},
   "source": [
    "What characters do we use to declare a list?  \n",
    "Use those characters to declare a list of strings where each string is one of the vowels.  \n",
    "I.e., make a list that contains `'a','e','i','o','u'`."
   ]
  },
  {
   "cell_type": "code",
   "execution_count": null,
   "metadata": {
    "collapsed": true
   },
   "outputs": [],
   "source": []
  },
  {
   "cell_type": "markdown",
   "metadata": {},
   "source": [
    "What built-in function do we use to find the length of a list and other *sequences*?  \n",
    "Use the line of code below to make a list, and then find the length of that list\n",
    "```Python\n",
    "a_list_of_numbers = list(range(10))\n",
    "```"
   ]
  },
  {
   "cell_type": "code",
   "execution_count": null,
   "metadata": {
    "collapsed": true
   },
   "outputs": [],
   "source": []
  },
  {
   "cell_type": "markdown",
   "metadata": {},
   "source": [
    "How can we append a new item to the end of our list?  \n",
    "Append the string `'y'` to our list of vowels."
   ]
  },
  {
   "cell_type": "code",
   "execution_count": null,
   "metadata": {
    "collapsed": true
   },
   "outputs": [],
   "source": []
  },
  {
   "cell_type": "markdown",
   "metadata": {},
   "source": [
    "How do we access subsets of a list using slice notation?  \n",
    "Print the first five vowels in our list."
   ]
  },
  {
   "cell_type": "code",
   "execution_count": null,
   "metadata": {
    "collapsed": true
   },
   "outputs": [],
   "source": []
  },
  {
   "cell_type": "markdown",
   "metadata": {},
   "source": [
    "### Loading data from files"
   ]
  },
  {
   "cell_type": "markdown",
   "metadata": {},
   "source": [
    "Import the `glob` function from the `glob` module and then use it to get a list of the names of all files from the `./data` directory with the word `inflammmation` in them and with the extension `.csv`."
   ]
  },
  {
   "cell_type": "code",
   "execution_count": null,
   "metadata": {
    "collapsed": true
   },
   "outputs": [],
   "source": []
  },
  {
   "cell_type": "markdown",
   "metadata": {},
   "source": [
    "Now  \n",
    "1) make an empty list called `list_of_arrays`  \n",
    "2) loop through the list of filenames  \n",
    "> a) loading each file with the `loadtxt` function from numpy  \n",
    "> b) and appending the loaded data to that list.  \n",
    "\n",
    "Remember that the way we call `loadtxt` is `np.loadtxt(fname=f, delimiter=',')` and that you need to:\n",
    "```Python\n",
    "import numpy as np\n",
    "```"
   ]
  },
  {
   "cell_type": "code",
   "execution_count": null,
   "metadata": {
    "collapsed": true
   },
   "outputs": [],
   "source": []
  },
  {
   "cell_type": "markdown",
   "metadata": {},
   "source": [
    "Finally, loop through the list you made and for each array in the list, print its shape."
   ]
  },
  {
   "cell_type": "code",
   "execution_count": null,
   "metadata": {
    "collapsed": true
   },
   "outputs": [],
   "source": []
  },
  {
   "cell_type": "markdown",
   "metadata": {},
   "source": [
    "### if, elif, and else"
   ]
  },
  {
   "cell_type": "markdown",
   "metadata": {},
   "source": [
    "Copy our loop to the cell below.  \n",
    "Along with `list_of_arrays`, initialize two other empty lists called `weird_maxima` and `minima_zero`.  \n",
    "Then add `if`, `elif`, and `else` statements to the code block of our `for` loop that do the following:  \n",
    "1) if the maxima is zero for the first day and twenty for the last day, add the filename to the list of `weird maxima`, and **do not** add the data to our `list_of_arrays`  \n",
    "2) otherwise, if the minima sum to zero, add the filename to the list `minima_zero` and **do not** add the data to our `list_of_arrays`  \n",
    "3) if neither of those conditions are true, then go ahead and append the array of data to our `list_of_arrays`  \n",
    "\n",
    "You can use this code to check for those conditions:\n",
    "```Python\n",
    "# check if the maxima is weird\n",
    "data.max(axis=0)[0] == 0 and data.max(axis=0)[20] == 20\n",
    "\n",
    "# check if minima add up to zero\n",
    "data.min(axis=0).sum() == 0\n",
    "```"
   ]
  },
  {
   "cell_type": "code",
   "execution_count": null,
   "metadata": {
    "collapsed": true
   },
   "outputs": [],
   "source": []
  },
  {
   "cell_type": "markdown",
   "metadata": {},
   "source": [
    "### functions"
   ]
  },
  {
   "cell_type": "markdown",
   "metadata": {},
   "source": [
    "Now copy the loop we wrote above again.  \n",
    "Define a function called `load_data` that takes as parameters the name of a directory and a string to search for files using `glob`, and returns the three lists.  \n",
    "Write a docstring that defines the `parameters` and what the function `returns`."
   ]
  },
  {
   "cell_type": "code",
   "execution_count": null,
   "metadata": {
    "collapsed": true
   },
   "outputs": [],
   "source": []
  },
  {
   "cell_type": "markdown",
   "metadata": {},
   "source": [
    "### assert statements"
   ]
  },
  {
   "cell_type": "markdown",
   "metadata": {},
   "source": [
    "Copy the entire function from above.  \n",
    "Add two assert statements at the start of the function.\n",
    "\n",
    "The first should check whether the value passed for the name of a directory is a valid directory.\n",
    "You can do this with the following code:\n",
    "```Python\n",
    "import os\n",
    "os.path.isdir(name_of_dir)\n",
    "```\n",
    "\n",
    "The second should check whether there were any files that corresponded to the string passed for the `glob` function,  \n",
    "i.e. the length of whatever is returned by `glob(string_to_search_with)` should be greater than 0.\n",
    "\n",
    "\n",
    "Both of the assert statements should have a string at the end that explains what assertion failed if it does fail,  \n",
    "i.e.,\n",
    "```Python\n",
    "'{} is not a valid directory'.format(name_of_dir)\n",
    "```\n",
    "\n",
    "Remember that the format of an assert statement looks like this:\n",
    "```Python\n",
    "assert is_true==True, \"is_true wasn't True\"\n",
    "```"
   ]
  },
  {
   "cell_type": "code",
   "execution_count": null,
   "metadata": {
    "collapsed": true
   },
   "outputs": [],
   "source": []
  }
 ],
 "metadata": {
  "anaconda-cloud": {},
  "kernelspec": {
   "display_name": "Python [Root]",
   "language": "python",
   "name": "Python [Root]"
  },
  "language_info": {
   "codemirror_mode": {
    "name": "ipython",
    "version": 3
   },
   "file_extension": ".py",
   "mimetype": "text/x-python",
   "name": "python",
   "nbconvert_exporter": "python",
   "pygments_lexer": "ipython3",
   "version": "3.5.2"
  }
 },
 "nbformat": 4,
 "nbformat_minor": 0
}
